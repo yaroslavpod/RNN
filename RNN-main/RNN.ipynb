{
 "cells": [
  {
   "cell_type": "code",
   "execution_count": 1,
   "metadata": {},
   "outputs": [],
   "source": [
    "# Importing the libraries\n",
    "import numpy as np\n",
    "import pandas as pd\n",
    "import matplotlib.pyplot as plt\n",
    "%matplotlib inline"
   ]
  },
  {
   "cell_type": "code",
   "execution_count": 2,
   "metadata": {},
   "outputs": [],
   "source": [
    "# Importing the training set"
   ]
  },
  {
   "cell_type": "code",
   "execution_count": 3,
   "metadata": {},
   "outputs": [],
   "source": [
    "dataset_train = pd.read_csv('Google_Stock_Price_Train.csv')\n",
    "training_set = dataset_train.iloc[:, 1:2].values"
   ]
  },
  {
   "cell_type": "code",
   "execution_count": 5,
   "metadata": {},
   "outputs": [
    {
     "data": {
      "text/html": [
       "<div>\n",
       "<style scoped>\n",
       "    .dataframe tbody tr th:only-of-type {\n",
       "        vertical-align: middle;\n",
       "    }\n",
       "\n",
       "    .dataframe tbody tr th {\n",
       "        vertical-align: top;\n",
       "    }\n",
       "\n",
       "    .dataframe thead th {\n",
       "        text-align: right;\n",
       "    }\n",
       "</style>\n",
       "<table border=\"1\" class=\"dataframe\">\n",
       "  <thead>\n",
       "    <tr style=\"text-align: right;\">\n",
       "      <th></th>\n",
       "      <th>Date</th>\n",
       "      <th>Open</th>\n",
       "      <th>High</th>\n",
       "      <th>Low</th>\n",
       "      <th>Close</th>\n",
       "      <th>Volume</th>\n",
       "    </tr>\n",
       "  </thead>\n",
       "  <tbody>\n",
       "    <tr>\n",
       "      <th>0</th>\n",
       "      <td>1/3/2012</td>\n",
       "      <td>325.25</td>\n",
       "      <td>332.83</td>\n",
       "      <td>324.97</td>\n",
       "      <td>663.59</td>\n",
       "      <td>7,380,500</td>\n",
       "    </tr>\n",
       "    <tr>\n",
       "      <th>1</th>\n",
       "      <td>1/4/2012</td>\n",
       "      <td>331.27</td>\n",
       "      <td>333.87</td>\n",
       "      <td>329.08</td>\n",
       "      <td>666.45</td>\n",
       "      <td>5,749,400</td>\n",
       "    </tr>\n",
       "    <tr>\n",
       "      <th>2</th>\n",
       "      <td>1/5/2012</td>\n",
       "      <td>329.83</td>\n",
       "      <td>330.75</td>\n",
       "      <td>326.89</td>\n",
       "      <td>657.21</td>\n",
       "      <td>6,590,300</td>\n",
       "    </tr>\n",
       "    <tr>\n",
       "      <th>3</th>\n",
       "      <td>1/6/2012</td>\n",
       "      <td>328.34</td>\n",
       "      <td>328.77</td>\n",
       "      <td>323.68</td>\n",
       "      <td>648.24</td>\n",
       "      <td>5,405,900</td>\n",
       "    </tr>\n",
       "    <tr>\n",
       "      <th>4</th>\n",
       "      <td>1/9/2012</td>\n",
       "      <td>322.04</td>\n",
       "      <td>322.29</td>\n",
       "      <td>309.46</td>\n",
       "      <td>620.76</td>\n",
       "      <td>11,688,800</td>\n",
       "    </tr>\n",
       "  </tbody>\n",
       "</table>\n",
       "</div>"
      ],
      "text/plain": [
       "       Date    Open    High     Low   Close      Volume\n",
       "0  1/3/2012  325.25  332.83  324.97  663.59   7,380,500\n",
       "1  1/4/2012  331.27  333.87  329.08  666.45   5,749,400\n",
       "2  1/5/2012  329.83  330.75  326.89  657.21   6,590,300\n",
       "3  1/6/2012  328.34  328.77  323.68  648.24   5,405,900\n",
       "4  1/9/2012  322.04  322.29  309.46  620.76  11,688,800"
      ]
     },
     "execution_count": 5,
     "metadata": {},
     "output_type": "execute_result"
    }
   ],
   "source": [
    "dataset_train.head()"
   ]
  },
  {
   "cell_type": "code",
   "execution_count": 6,
   "metadata": {},
   "outputs": [],
   "source": [
    "# DATA PREPROCESSING"
   ]
  },
  {
   "cell_type": "code",
   "execution_count": 7,
   "metadata": {},
   "outputs": [],
   "source": [
    "# Feature Scaling"
   ]
  },
  {
   "cell_type": "code",
   "execution_count": 8,
   "metadata": {},
   "outputs": [],
   "source": [
    "from sklearn.preprocessing import MinMaxScaler"
   ]
  },
  {
   "cell_type": "code",
   "execution_count": 9,
   "metadata": {},
   "outputs": [],
   "source": [
    "sc = MinMaxScaler(feature_range = (0, 1))\n",
    "training_set_scaled = sc.fit_transform(training_set)"
   ]
  },
  {
   "cell_type": "code",
   "execution_count": 10,
   "metadata": {},
   "outputs": [
    {
     "data": {
      "text/plain": [
       "array([[0.08581368],\n",
       "       [0.09701243],\n",
       "       [0.09433366],\n",
       "       ...,\n",
       "       [0.95725128],\n",
       "       [0.93796041],\n",
       "       [0.93688146]])"
      ]
     },
     "execution_count": 10,
     "metadata": {},
     "output_type": "execute_result"
    }
   ],
   "source": [
    "training_set_scaled"
   ]
  },
  {
   "cell_type": "code",
   "execution_count": 11,
   "metadata": {},
   "outputs": [],
   "source": [
    "# Creating a data structure with 60 timesteps and 1 output"
   ]
  },
  {
   "cell_type": "code",
   "execution_count": 12,
   "metadata": {},
   "outputs": [],
   "source": [
    "X_train = []\n",
    "y_train = []\n",
    "for i in range(60, 1258):\n",
    "    X_train.append(training_set_scaled[i-60:i, 0])\n",
    "    y_train.append(training_set_scaled[i, 0])\n",
    "    \n",
    "X_train, y_train = np.array(X_train), np.array(y_train)"
   ]
  },
  {
   "cell_type": "code",
   "execution_count": 13,
   "metadata": {},
   "outputs": [
    {
     "data": {
      "text/plain": [
       "array([[0.08581368, 0.09701243, 0.09433366, ..., 0.07846566, 0.08034452,\n",
       "        0.08497656],\n",
       "       [0.09701243, 0.09433366, 0.09156187, ..., 0.08034452, 0.08497656,\n",
       "        0.08627874],\n",
       "       [0.09433366, 0.09156187, 0.07984225, ..., 0.08497656, 0.08627874,\n",
       "        0.08471612],\n",
       "       ...,\n",
       "       [0.92106928, 0.92438053, 0.93048218, ..., 0.95475854, 0.95204256,\n",
       "        0.95163331],\n",
       "       [0.92438053, 0.93048218, 0.9299055 , ..., 0.95204256, 0.95163331,\n",
       "        0.95725128],\n",
       "       [0.93048218, 0.9299055 , 0.93113327, ..., 0.95163331, 0.95725128,\n",
       "        0.93796041]])"
      ]
     },
     "execution_count": 13,
     "metadata": {},
     "output_type": "execute_result"
    }
   ],
   "source": [
    "X_train"
   ]
  },
  {
   "cell_type": "code",
   "execution_count": 14,
   "metadata": {},
   "outputs": [
    {
     "data": {
      "text/plain": [
       "array([0.08627874, 0.08471612, 0.07454052, ..., 0.95725128, 0.93796041,\n",
       "       0.93688146])"
      ]
     },
     "execution_count": 14,
     "metadata": {},
     "output_type": "execute_result"
    }
   ],
   "source": [
    "y_train"
   ]
  },
  {
   "cell_type": "code",
   "execution_count": 15,
   "metadata": {},
   "outputs": [],
   "source": [
    "# Reshaping"
   ]
  },
  {
   "cell_type": "code",
   "execution_count": 16,
   "metadata": {},
   "outputs": [],
   "source": [
    "X_train = np.reshape(X_train, (X_train.shape[0], X_train.shape[1], 1))"
   ]
  },
  {
   "cell_type": "code",
   "execution_count": 17,
   "metadata": {},
   "outputs": [
    {
     "data": {
      "text/plain": [
       "(1198, 60, 1)"
      ]
     },
     "execution_count": 17,
     "metadata": {},
     "output_type": "execute_result"
    }
   ],
   "source": [
    "X_train.shape"
   ]
  },
  {
   "cell_type": "code",
   "execution_count": 18,
   "metadata": {},
   "outputs": [],
   "source": [
    "# BUILDING THE RNN"
   ]
  },
  {
   "cell_type": "code",
   "execution_count": 19,
   "metadata": {},
   "outputs": [],
   "source": [
    "# Importing the Keras libraries and packages"
   ]
  },
  {
   "cell_type": "code",
   "execution_count": 21,
   "metadata": {},
   "outputs": [],
   "source": [
    "from keras.models import Sequential\n",
    "from keras.layers import Dense\n",
    "from keras.layers import LSTM\n",
    "from keras.layers import Dropout"
   ]
  },
  {
   "cell_type": "code",
   "execution_count": 22,
   "metadata": {},
   "outputs": [],
   "source": [
    "# Initializing the RNN"
   ]
  },
  {
   "cell_type": "code",
   "execution_count": 23,
   "metadata": {},
   "outputs": [],
   "source": [
    "regressor = Sequential()"
   ]
  },
  {
   "cell_type": "code",
   "execution_count": 24,
   "metadata": {},
   "outputs": [],
   "source": [
    "# Adding the first LSTM layer and some Dropout regularization"
   ]
  },
  {
   "cell_type": "code",
   "execution_count": 25,
   "metadata": {},
   "outputs": [],
   "source": [
    "regressor.add(LSTM(units=50, return_sequences=True, input_shape=(X_train.shape[1], 1)))\n",
    "regressor.add(Dropout(0.2))"
   ]
  },
  {
   "cell_type": "code",
   "execution_count": 26,
   "metadata": {},
   "outputs": [],
   "source": [
    "# Adding the second LSTM layer and some Dropout regularization"
   ]
  },
  {
   "cell_type": "code",
   "execution_count": 27,
   "metadata": {},
   "outputs": [],
   "source": [
    "regressor.add(LSTM(units=50, return_sequences=True))\n",
    "regressor.add(Dropout(0.2))"
   ]
  },
  {
   "cell_type": "code",
   "execution_count": 28,
   "metadata": {},
   "outputs": [],
   "source": [
    "# Adding the third LSTM layer and some Dropout regularization"
   ]
  },
  {
   "cell_type": "code",
   "execution_count": 29,
   "metadata": {},
   "outputs": [],
   "source": [
    "regressor.add(LSTM(units=50, return_sequences=True))\n",
    "regressor.add(Dropout(0.2))"
   ]
  },
  {
   "cell_type": "code",
   "execution_count": 30,
   "metadata": {},
   "outputs": [],
   "source": [
    "# Adding the fourth LSTM layer and some Dropout regularization"
   ]
  },
  {
   "cell_type": "code",
   "execution_count": 31,
   "metadata": {},
   "outputs": [],
   "source": [
    "regressor.add(LSTM(units=50, return_sequences=False))\n",
    "regressor.add(Dropout(0.2))"
   ]
  },
  {
   "cell_type": "code",
   "execution_count": 32,
   "metadata": {},
   "outputs": [],
   "source": [
    "# Adding the output layer"
   ]
  },
  {
   "cell_type": "code",
   "execution_count": 33,
   "metadata": {},
   "outputs": [],
   "source": [
    "regressor.add(Dense(units = 1))"
   ]
  },
  {
   "cell_type": "code",
   "execution_count": 34,
   "metadata": {},
   "outputs": [],
   "source": [
    "# Compiling the RNN"
   ]
  },
  {
   "cell_type": "code",
   "execution_count": 35,
   "metadata": {},
   "outputs": [],
   "source": [
    "regressor.compile(optimizer='adam', loss='mean_squared_error')"
   ]
  },
  {
   "cell_type": "code",
   "execution_count": 36,
   "metadata": {},
   "outputs": [],
   "source": [
    "# Fitting the RNN to the training set"
   ]
  },
  {
   "cell_type": "code",
   "execution_count": 37,
   "metadata": {},
   "outputs": [
    {
     "name": "stdout",
     "output_type": "stream",
     "text": [
      "WARNING:tensorflow:From C:\\Users\\Windows10sx\\anaconda3\\lib\\site-packages\\keras\\backend\\tensorflow_backend.py:422: The name tf.global_variables is deprecated. Please use tf.compat.v1.global_variables instead.\n",
      "\n",
      "Epoch 1/100\n",
      "1198/1198 [==============================] - 14s 11ms/step - loss: 0.0463\n",
      "Epoch 2/100\n",
      "1198/1198 [==============================] - 9s 7ms/step - loss: 0.0076\n",
      "Epoch 3/100\n",
      "1198/1198 [==============================] - 9s 7ms/step - loss: 0.0062\n",
      "Epoch 4/100\n",
      "1198/1198 [==============================] - 9s 8ms/step - loss: 0.0061\n",
      "Epoch 5/100\n",
      "1198/1198 [==============================] - 9s 7ms/step - loss: 0.0064\n",
      "Epoch 6/100\n",
      "1198/1198 [==============================] - 9s 8ms/step - loss: 0.0052\n",
      "Epoch 7/100\n",
      "1198/1198 [==============================] - 9s 8ms/step - loss: 0.0047\n",
      "Epoch 8/100\n",
      "1198/1198 [==============================] - 9s 8ms/step - loss: 0.0049\n",
      "Epoch 9/100\n",
      "1198/1198 [==============================] - 7s 6ms/step - loss: 0.0046\n",
      "Epoch 10/100\n",
      "1198/1198 [==============================] - 7s 6ms/step - loss: 0.0046\n",
      "Epoch 11/100\n",
      "1198/1198 [==============================] - 9s 8ms/step - loss: 0.0048\n",
      "Epoch 12/100\n",
      "1198/1198 [==============================] - 10s 8ms/step - loss: 0.0049\n",
      "Epoch 13/100\n",
      "1198/1198 [==============================] - 10s 9ms/step - loss: 0.0045\n",
      "Epoch 14/100\n",
      "1198/1198 [==============================] - 10s 8ms/step - loss: 0.0038\n",
      "Epoch 15/100\n",
      "1198/1198 [==============================] - 10s 9ms/step - loss: 0.0042\n",
      "Epoch 16/100\n",
      "1198/1198 [==============================] - 11s 9ms/step - loss: 0.0038\n",
      "Epoch 17/100\n",
      "1198/1198 [==============================] - 9s 8ms/step - loss: 0.0039\n",
      "Epoch 18/100\n",
      "1198/1198 [==============================] - 9s 8ms/step - loss: 0.0038\n",
      "Epoch 19/100\n",
      "1198/1198 [==============================] - 9s 8ms/step - loss: 0.0047\n",
      "Epoch 20/100\n",
      "1198/1198 [==============================] - 8s 7ms/step - loss: 0.0040\n",
      "Epoch 21/100\n",
      "1198/1198 [==============================] - 10s 8ms/step - loss: 0.0036\n",
      "Epoch 22/100\n",
      "1198/1198 [==============================] - 9s 8ms/step - loss: 0.0034\n",
      "Epoch 23/100\n",
      "1198/1198 [==============================] - 10s 8ms/step - loss: 0.0035\n",
      "Epoch 24/100\n",
      "1198/1198 [==============================] - 8s 7ms/step - loss: 0.0034\n",
      "Epoch 25/100\n",
      "1198/1198 [==============================] - 9s 8ms/step - loss: 0.0030\n",
      "Epoch 26/100\n",
      "1198/1198 [==============================] - 10s 8ms/step - loss: 0.0030\n",
      "Epoch 27/100\n",
      "1198/1198 [==============================] - 9s 8ms/step - loss: 0.0034A: 2s - los\n",
      "Epoch 28/100\n",
      "1198/1198 [==============================] - 8s 6ms/step - loss: 0.0031\n",
      "Epoch 29/100\n",
      "1198/1198 [==============================] - 10s 8ms/step - loss: 0.0031\n",
      "Epoch 30/100\n",
      "1198/1198 [==============================] - 10s 8ms/step - loss: 0.0034\n",
      "Epoch 31/100\n",
      "1198/1198 [==============================] - 9s 7ms/step - loss: 0.0030\n",
      "Epoch 32/100\n",
      "1198/1198 [==============================] - 9s 7ms/step - loss: 0.0029\n",
      "Epoch 33/100\n",
      "1198/1198 [==============================] - 11s 9ms/step - loss: 0.0028\n",
      "Epoch 34/100\n",
      "1198/1198 [==============================] - 12s 10ms/step - loss: 0.0032\n",
      "Epoch 35/100\n",
      "1198/1198 [==============================] - 11s 9ms/step - loss: 0.0033\n",
      "Epoch 36/100\n",
      "1198/1198 [==============================] - 7s 6ms/step - loss: 0.0032\n",
      "Epoch 37/100\n",
      "1198/1198 [==============================] - 8s 6ms/step - loss: 0.0034\n",
      "Epoch 38/100\n",
      "1198/1198 [==============================] - 11s 10ms/step - loss: 0.0026\n",
      "Epoch 39/100\n",
      "1198/1198 [==============================] - 11s 9ms/step - loss: 0.0028\n",
      "Epoch 40/100\n",
      "1198/1198 [==============================] - 11s 9ms/step - loss: 0.0026\n",
      "Epoch 41/100\n",
      "1198/1198 [==============================] - 13s 11ms/step - loss: 0.0026\n",
      "Epoch 42/100\n",
      "1198/1198 [==============================] - 11s 10ms/step - loss: 0.0025\n",
      "Epoch 43/100\n",
      "1198/1198 [==============================] - 9s 8ms/step - loss: 0.0025\n",
      "Epoch 44/100\n",
      "1198/1198 [==============================] - 13s 11ms/step - loss: 0.0028\n",
      "Epoch 45/100\n",
      "1198/1198 [==============================] - 12s 10ms/step - loss: 0.0026\n",
      "Epoch 46/100\n",
      "1198/1198 [==============================] - 8s 7ms/step - loss: 0.0024\n",
      "Epoch 47/100\n",
      "1198/1198 [==============================] - 11s 9ms/step - loss: 0.0024\n",
      "Epoch 48/100\n",
      "1198/1198 [==============================] - 10s 8ms/step - loss: 0.0025\n",
      "Epoch 49/100\n",
      "1198/1198 [==============================] - 10s 8ms/step - loss: 0.0024\n",
      "Epoch 50/100\n",
      "1198/1198 [==============================] - 10s 8ms/step - loss: 0.0024\n",
      "Epoch 51/100\n",
      "1198/1198 [==============================] - 11s 9ms/step - loss: 0.0024\n",
      "Epoch 52/100\n",
      "1198/1198 [==============================] - 8s 7ms/step - loss: 0.0023\n",
      "Epoch 53/100\n",
      "1198/1198 [==============================] - 10s 9ms/step - loss: 0.0021\n",
      "Epoch 54/100\n",
      "1198/1198 [==============================] - 10s 9ms/step - loss: 0.0021\n",
      "Epoch 55/100\n",
      "1198/1198 [==============================] - 9s 7ms/step - loss: 0.0023\n",
      "Epoch 56/100\n",
      "1198/1198 [==============================] - 7s 6ms/step - loss: 0.0024\n",
      "Epoch 57/100\n",
      "1198/1198 [==============================] - 8s 7ms/step - loss: 0.0020\n",
      "Epoch 58/100\n",
      "1198/1198 [==============================] - 9s 7ms/step - loss: 0.0022\n",
      "Epoch 59/100\n",
      "1198/1198 [==============================] - 9s 7ms/step - loss: 0.0021\n",
      "Epoch 60/100\n",
      "1198/1198 [==============================] - 8s 7ms/step - loss: 0.0025\n",
      "Epoch 61/100\n",
      "1198/1198 [==============================] - 10s 9ms/step - loss: 0.0022\n",
      "Epoch 62/100\n",
      "1198/1198 [==============================] - 9s 8ms/step - loss: 0.0020\n",
      "Epoch 63/100\n",
      "1198/1198 [==============================] - 9s 7ms/step - loss: 0.0021\n",
      "Epoch 64/100\n",
      "1198/1198 [==============================] - 12s 10ms/step - loss: 0.0019\n",
      "Epoch 65/100\n",
      "1198/1198 [==============================] - 12s 10ms/step - loss: 0.0020\n",
      "Epoch 66/100\n",
      "1198/1198 [==============================] - 13s 11ms/step - loss: 0.0020\n",
      "Epoch 67/100\n",
      "1198/1198 [==============================] - 11s 9ms/step - loss: 0.0018\n",
      "Epoch 68/100\n",
      "1198/1198 [==============================] - 13s 11ms/step - loss: 0.0018\n",
      "Epoch 69/100\n",
      "1198/1198 [==============================] - 12s 10ms/step - loss: 0.0020\n",
      "Epoch 70/100\n",
      "1198/1198 [==============================] - 8s 6ms/step - loss: 0.0020\n",
      "Epoch 71/100\n",
      "1198/1198 [==============================] - 8s 7ms/step - loss: 0.0017\n",
      "Epoch 72/100\n",
      "1198/1198 [==============================] - 9s 7ms/step - loss: 0.0018\n",
      "Epoch 73/100\n",
      "1198/1198 [==============================] - 9s 8ms/step - loss: 0.0019\n",
      "Epoch 74/100\n",
      "1198/1198 [==============================] - 8s 6ms/step - loss: 0.0018\n",
      "Epoch 75/100\n",
      "1198/1198 [==============================] - 7s 6ms/step - loss: 0.0016\n",
      "Epoch 76/100\n",
      "1198/1198 [==============================] - 9s 8ms/step - loss: 0.0017\n",
      "Epoch 77/100\n",
      "1198/1198 [==============================] - 11s 9ms/step - loss: 0.0019\n",
      "Epoch 78/100\n",
      "1198/1198 [==============================] - 13s 11ms/step - loss: 0.0021\n",
      "Epoch 79/100\n",
      "1198/1198 [==============================] - 10s 9ms/step - loss: 0.0018\n",
      "Epoch 80/100\n",
      "1198/1198 [==============================] - 11s 9ms/step - loss: 0.0018\n",
      "Epoch 81/100\n",
      "1198/1198 [==============================] - 13s 11ms/step - loss: 0.0017\n",
      "Epoch 82/100\n",
      "1198/1198 [==============================] - 11s 9ms/step - loss: 0.0017\n",
      "Epoch 83/100\n",
      "1198/1198 [==============================] - 11s 9ms/step - loss: 0.0016\n",
      "Epoch 84/100\n",
      "1198/1198 [==============================] - 11s 9ms/step - loss: 0.0017\n",
      "Epoch 85/100\n",
      "1198/1198 [==============================] - 10s 8ms/step - loss: 0.0015\n",
      "Epoch 86/100\n",
      "1198/1198 [==============================] - 10s 8ms/step - loss: 0.0017\n",
      "Epoch 87/100\n",
      "1198/1198 [==============================] - 12s 10ms/step - loss: 0.0016\n",
      "Epoch 88/100\n",
      "1198/1198 [==============================] - 12s 10ms/step - loss: 0.0015\n",
      "Epoch 89/100\n",
      "1198/1198 [==============================] - 10s 8ms/step - loss: 0.0014\n",
      "Epoch 90/100\n",
      "1198/1198 [==============================] - 10s 9ms/step - loss: 0.0018\n",
      "Epoch 91/100\n",
      "1198/1198 [==============================] - 11s 9ms/step - loss: 0.0015\n",
      "Epoch 92/100\n",
      "1198/1198 [==============================] - 9s 7ms/step - loss: 0.0015\n",
      "Epoch 93/100\n",
      "1198/1198 [==============================] - 12s 10ms/step - loss: 0.0015\n",
      "Epoch 94/100\n"
     ]
    },
    {
     "name": "stdout",
     "output_type": "stream",
     "text": [
      "1198/1198 [==============================] - 13s 11ms/step - loss: 0.0016\n",
      "Epoch 95/100\n",
      "1198/1198 [==============================] - 13s 11ms/step - loss: 0.0017\n",
      "Epoch 96/100\n",
      "1198/1198 [==============================] - 11s 9ms/step - loss: 0.0015\n",
      "Epoch 97/100\n",
      "1198/1198 [==============================] - 11s 9ms/step - loss: 0.0016\n",
      "Epoch 98/100\n",
      "1198/1198 [==============================] - 11s 9ms/step - loss: 0.0014\n",
      "Epoch 99/100\n",
      "1198/1198 [==============================] - 13s 11ms/step - loss: 0.0014\n",
      "Epoch 100/100\n",
      "1198/1198 [==============================] - 13s 10ms/step - loss: 0.0015\n"
     ]
    },
    {
     "data": {
      "text/plain": [
       "<keras.callbacks.callbacks.History at 0x291f5852e48>"
      ]
     },
     "execution_count": 37,
     "metadata": {},
     "output_type": "execute_result"
    }
   ],
   "source": [
    "regressor.fit(X_train, y_train, epochs=100, batch_size=32)"
   ]
  },
  {
   "cell_type": "code",
   "execution_count": 38,
   "metadata": {},
   "outputs": [],
   "source": [
    "# MAKING THE PREDICTIONS AND VISUALISING THE RESULTS"
   ]
  },
  {
   "cell_type": "code",
   "execution_count": 39,
   "metadata": {},
   "outputs": [],
   "source": [
    "# Getting the real stock price of 2017"
   ]
  },
  {
   "cell_type": "code",
   "execution_count": 40,
   "metadata": {},
   "outputs": [],
   "source": [
    "dataset_test = pd.read_csv('Google_Stock_Price_Test.csv')\n",
    "real_stock_price = dataset_test.iloc[:, 1:2].values"
   ]
  },
  {
   "cell_type": "code",
   "execution_count": 41,
   "metadata": {},
   "outputs": [],
   "source": [
    "# Getting the predicted stock price of 2017"
   ]
  },
  {
   "cell_type": "code",
   "execution_count": 42,
   "metadata": {},
   "outputs": [],
   "source": [
    "dataset_total = pd.concat((dataset_train['Open'], dataset_test['Open']), axis = 0)\n",
    "inputs = dataset_total[len(dataset_total) - len(dataset_test) - 60:].values\n",
    "inputs = inputs.reshape(-1,1)\n",
    "inputs = sc.transform(inputs)\n",
    "X_test = []\n",
    "for i in range(60, 80):\n",
    "    X_test.append(inputs[i-60:i, 0])\n",
    "X_test = np.array(X_test)\n",
    "X_test = np.reshape(X_test, (X_test.shape[0], X_test.shape[1], 1))\n",
    "predicted_stock_price = regressor.predict(X_test)\n",
    "predicted_stock_price = sc.inverse_transform(predicted_stock_price)"
   ]
  },
  {
   "cell_type": "code",
   "execution_count": 43,
   "metadata": {},
   "outputs": [
    {
     "data": {
      "text/plain": [
       "array([[771.6623 ],\n",
       "       [768.96094],\n",
       "       [769.2824 ],\n",
       "       [770.47595],\n",
       "       [773.6143 ],\n",
       "       [779.25385],\n",
       "       [784.2416 ],\n",
       "       [786.12683],\n",
       "       [786.4855 ],\n",
       "       [786.371  ],\n",
       "       [786.218  ],\n",
       "       [785.9945 ],\n",
       "       [785.8434 ],\n",
       "       [786.41394],\n",
       "       [787.35785],\n",
       "       [792.0087 ],\n",
       "       [798.654  ],\n",
       "       [805.6465 ],\n",
       "       [809.16113],\n",
       "       [804.70886]], dtype=float32)"
      ]
     },
     "execution_count": 43,
     "metadata": {},
     "output_type": "execute_result"
    }
   ],
   "source": [
    "predicted_stock_price"
   ]
  },
  {
   "cell_type": "code",
   "execution_count": 44,
   "metadata": {},
   "outputs": [],
   "source": [
    "# Visualising the results"
   ]
  },
  {
   "cell_type": "code",
   "execution_count": 45,
   "metadata": {},
   "outputs": [
    {
     "data": {
      "text/plain": [
       "<matplotlib.legend.Legend at 0x291fcf44048>"
      ]
     },
     "execution_count": 45,
     "metadata": {},
     "output_type": "execute_result"
    },
    {
     "data": {
      "image/png": "[encoded data removed]",
      "text/plain": [
       "<Figure size 432x288 with 1 Axes>"
      ]
     },
     "metadata": {
      "needs_background": "light"
     },
     "output_type": "display_data"
    }
   ],
   "source": [
    "plt.plot(real_stock_price, color='red', label='Real Google Stock Price')\n",
    "plt.plot(predicted_stock_price, color='blue', label='Predicted Google Stock Price')\n",
    "plt.title('Google Stock Price Prediction')\n",
    "plt.xlabel('Time')\n",
    "plt.ylabel('Google Stock Price')\n",
    "plt.legend()"
   ]
  },
  {
   "cell_type": "code",
   "execution_count": 46,
   "metadata": {},
   "outputs": [],
   "source": [
    "# RMSE"
   ]
  },
  {
   "cell_type": "code",
   "execution_count": 47,
   "metadata": {},
   "outputs": [],
   "source": [
    "import math\n",
    "from sklearn.metrics import mean_squared_error\n",
    "rmse = math.sqrt(mean_squared_error(real_stock_price, predicted_stock_price))"
   ]
  },
  {
   "cell_type": "code",
   "execution_count": 48,
   "metadata": {},
   "outputs": [
    {
     "data": {
      "text/plain": [
       "24.178495127180398"
      ]
     },
     "execution_count": 48,
     "metadata": {},
     "output_type": "execute_result"
    }
   ],
   "source": [
    "rmse"
   ]
  },
  {
   "cell_type": "code",
   "execution_count": 49,
   "metadata": {},
   "outputs": [],
   "source": [
    "# TUNING THE RNN"
   ]
  },
  {
   "cell_type": "code",
   "execution_count": 50,
   "metadata": {},
   "outputs": [],
   "source": [
    "from keras.wrappers.scikit_learn import KerasClassifier"
   ]
  },
  {
   "cell_type": "code",
   "execution_count": 51,
   "metadata": {},
   "outputs": [],
   "source": [
    "from sklearn.model_selection import GridSearchCV"
   ]
  },
  {
   "cell_type": "code",
   "execution_count": 68,
   "metadata": {},
   "outputs": [],
   "source": [
    "from keras.models import Sequential\n",
    "from keras.layers import Dense\n",
    "def build_classifier(optimizer):\n",
    "    regressor = Sequential()\n",
    "    regressor.add(LSTM(units=50, return_sequences=True, input_shape=(X_train.shape[1], 1)))\n",
    "    regressor.add(LSTM(units=50, return_sequences=True))\n",
    "    regressor.add(LSTM(units=50, return_sequences=True))\n",
    "    regressor.add(LSTM(units=50, return_sequences=False))\n",
    "    regressor.add(Dense(units = 1))\n",
    "    regressor.compile(optimizer=optimizer, loss='mean_squared_error')\n",
    "    return regressor"
   ]
  },
  {
   "cell_type": "code",
   "execution_count": 69,
   "metadata": {},
   "outputs": [],
   "source": [
    "regressor = KerasClassifier(build_fn = build_classifier)"
   ]
  },
  {
   "cell_type": "code",
   "execution_count": 70,
   "metadata": {},
   "outputs": [],
   "source": [
    "parameters = {'batch_size': [25, 32],\n",
    "              'epochs': [10, 25],\n",
    "              'optimizer': ['adam', 'rmsprop']}"
   ]
  },
  {
   "cell_type": "code",
   "execution_count": 71,
   "metadata": {},
   "outputs": [],
   "source": [
    "grid_search = GridSearchCV(estimator=regressor, param_grid=parameters, scoring='neg_mean_squared_error', cv=10)"
   ]
  },
  {
   "cell_type": "code",
   "execution_count": null,
   "metadata": {},
   "outputs": [
    {
     "name": "stdout",
     "output_type": "stream",
     "text": [
      "Epoch 1/10\n",
      "1078/1078 [==============================] - 15s 14ms/step - loss: 356683.9632\n",
      "Epoch 2/10\n",
      "1078/1078 [==============================] - 7s 6ms/step - loss: 350859.4655\n",
      "Epoch 3/10\n",
      "1078/1078 [==============================] - 7s 6ms/step - loss: 348116.5052\n",
      "Epoch 4/10\n",
      "1078/1078 [==============================] - 7s 6ms/step - loss: 345645.7445\n",
      "Epoch 5/10\n",
      "1078/1078 [==============================] - 7s 7ms/step - loss: 343273.7473\n",
      "Epoch 6/10\n",
      "1078/1078 [==============================] - 7s 6ms/step - loss: 340962.7109\n",
      "Epoch 7/10\n",
      "1078/1078 [==============================] - 7s 6ms/step - loss: 338716.0634\n",
      "Epoch 8/10\n",
      "1078/1078 [==============================] - 7s 7ms/step - loss: 336478.7629\n",
      "Epoch 9/10\n",
      "1078/1078 [==============================] - 7s 6ms/step - loss: 334289.4994\n",
      "Epoch 10/10\n",
      "1078/1078 [==============================] - 7s 7ms/step - loss: 332094.4540\n",
      "Epoch 1/10\n",
      "1078/1078 [==============================] - 13s 12ms/step - loss: 359373.9581\n",
      "Epoch 2/10\n",
      "1078/1078 [==============================] - 8s 8ms/step - loss: 352975.4967\n",
      "Epoch 3/10\n",
      "1078/1078 [==============================] - 8s 8ms/step - loss: 350100.0040\n",
      "Epoch 4/10\n",
      "1078/1078 [==============================] - 8s 8ms/step - loss: 347646.1967\n",
      "Epoch 5/10\n",
      "1078/1078 [==============================] - 8s 8ms/step - loss: 345305.4847\n",
      "Epoch 6/10\n",
      "1078/1078 [==============================] - 8s 8ms/step - loss: 342959.6153: 1s\n",
      "Epoch 7/10\n",
      "1078/1078 [==============================] - 8s 8ms/step - loss: 340611.1544\n",
      "Epoch 8/10\n",
      "1078/1078 [==============================] - 8s 8ms/step - loss: 338332.2051\n",
      "Epoch 9/10\n",
      "1078/1078 [==============================] - 8s 8ms/step - loss: 336108.1137\n",
      "Epoch 10/10\n",
      "1078/1078 [==============================] - 8s 8ms/step - loss: 333915.6314: 1s -\n",
      "Epoch 1/10\n",
      "1078/1078 [==============================] - 19s 18ms/step - loss: 355662.2794\n",
      "Epoch 2/10\n",
      "1078/1078 [==============================] - 13s 12ms/step - loss: 349186.4610\n",
      "Epoch 3/10\n",
      "1078/1078 [==============================] - 13s 12ms/step - loss: 346167.3461\n",
      "Epoch 4/10\n",
      "1078/1078 [==============================] - 13s 12ms/step - loss: 343672.5100\n",
      "Epoch 5/10\n",
      "1078/1078 [==============================] - 13s 12ms/step - loss: 341201.2339\n",
      "Epoch 6/10\n",
      "1078/1078 [==============================] - 13s 12ms/step - loss: 338813.1281\n",
      "Epoch 7/10\n",
      "1078/1078 [==============================] - 13s 12ms/step - loss: 336473.0332\n",
      "Epoch 8/10\n",
      "1078/1078 [==============================] - 13s 12ms/step - loss: 334190.8268\n",
      "Epoch 9/10\n",
      "1078/1078 [==============================] - 13s 12ms/step - loss: 331947.8315\n",
      "Epoch 10/10\n",
      "1078/1078 [==============================] - 13s 12ms/step - loss: 329734.1247\n",
      "Epoch 1/10\n",
      "1078/1078 [==============================] - 23s 21ms/step - loss: 355034.8371\n",
      "Epoch 2/10\n",
      "1078/1078 [==============================] - 15s 14ms/step - loss: 349566.1372\n",
      "Epoch 3/10\n",
      "1078/1078 [==============================] - 15s 14ms/step - loss: 346996.5717\n",
      "Epoch 4/10\n",
      "1078/1078 [==============================] - 14s 13ms/step - loss: 344519.2568\n",
      "Epoch 5/10\n",
      "1078/1078 [==============================] - 13s 12ms/step - loss: 342208.4471\n",
      "Epoch 6/10\n",
      "1078/1078 [==============================] - 14s 13ms/step - loss: 339942.1985\n",
      "Epoch 7/10\n",
      "1078/1078 [==============================] - 15s 14ms/step - loss: 337715.7675\n",
      "Epoch 8/10\n",
      "1078/1078 [==============================] - 14s 13ms/step - loss: 335514.6477\n",
      "Epoch 9/10\n",
      "1078/1078 [==============================] - 12s 11ms/step - loss: 333350.9046\n",
      "Epoch 10/10\n",
      "1078/1078 [==============================] - 12s 11ms/step - loss: 331197.6675\n",
      "Epoch 1/10\n",
      "1078/1078 [==============================] - 25s 24ms/step - loss: 360301.2337\n",
      "Epoch 2/10\n",
      "1078/1078 [==============================] - 16s 14ms/step - loss: 354021.3563\n",
      "Epoch 3/10\n",
      "1078/1078 [==============================] - 15s 14ms/step - loss: 351192.9840\n",
      "Epoch 4/10\n",
      "1078/1078 [==============================] - 16s 15ms/step - loss: 348635.8370\n",
      "Epoch 5/10\n",
      "1078/1078 [==============================] - 17s 16ms/step - loss: 346199.4957\n",
      "Epoch 6/10\n",
      "1078/1078 [==============================] - 15s 14ms/step - loss: 343817.0291\n",
      "Epoch 7/10\n",
      "1078/1078 [==============================] - 15s 14ms/step - loss: 341501.7651\n",
      "Epoch 8/10\n",
      "1078/1078 [==============================] - 16s 14ms/step - loss: 339229.9824\n",
      "Epoch 9/10\n",
      "1078/1078 [==============================] - 16s 14ms/step - loss: 336978.2437\n",
      "Epoch 10/10\n",
      "1078/1078 [==============================] - 15s 14ms/step - loss: 334756.2798\n",
      "Epoch 1/10\n",
      "1078/1078 [==============================] - 104s 97ms/step - loss: 363572.6414\n",
      "Epoch 2/10\n",
      "1078/1078 [==============================] - 20s 18ms/step - loss: 357176.4186\n",
      "Epoch 3/10\n",
      "1078/1078 [==============================] - 21s 20ms/step - loss: 354456.0830\n",
      "Epoch 4/10\n",
      "1078/1078 [==============================] - 20s 18ms/step - loss: 351971.8508\n",
      "Epoch 5/10\n",
      "1078/1078 [==============================] - 19s 18ms/step - loss: 349526.3592\n",
      "Epoch 6/10\n",
      "1078/1078 [==============================] - 20s 19ms/step - loss: 347156.0491\n",
      "Epoch 7/10\n",
      "1078/1078 [==============================] - 21s 19ms/step - loss: 344852.9567\n",
      "Epoch 8/10\n",
      "1078/1078 [==============================] - 20s 19ms/step - loss: 342592.8256\n",
      "Epoch 9/10\n",
      "1078/1078 [==============================] - 19s 18ms/step - loss: 340371.3974\n",
      "Epoch 10/10\n",
      "1078/1078 [==============================] - 19s 18ms/step - loss: 338165.3388\n",
      "Epoch 1/10\n",
      "1078/1078 [==============================] - 100s 93ms/step - loss: 358834.6365\n",
      "Epoch 2/10\n",
      "1078/1078 [==============================] - 20s 19ms/step - loss: 352823.0818\n",
      "Epoch 3/10\n",
      "1078/1078 [==============================] - 20s 18ms/step - loss: 350068.0013\n",
      "Epoch 4/10\n",
      "1078/1078 [==============================] - 20s 18ms/step - loss: 347551.7008\n",
      "Epoch 5/10\n",
      "1078/1078 [==============================] - 20s 19ms/step - loss: 345133.5436\n",
      "Epoch 6/10\n",
      "1078/1078 [==============================] - 20s 18ms/step - loss: 342763.1757\n",
      "Epoch 7/10\n",
      "1078/1078 [==============================] - 19s 17ms/step - loss: 340432.2158\n",
      "Epoch 8/10\n",
      "1078/1078 [==============================] - 17s 16ms/step - loss: 338148.5076\n",
      "Epoch 9/10\n",
      "1078/1078 [==============================] - 19s 18ms/step - loss: 335902.5206\n",
      "Epoch 10/10\n",
      "1078/1078 [==============================] - 21s 20ms/step - loss: 333675.3488\n",
      "Epoch 1/10\n",
      "1078/1078 [==============================] - 46s 43ms/step - loss: 355384.6688\n",
      "Epoch 2/10\n",
      "1078/1078 [==============================] - 19s 18ms/step - loss: 349834.1989\n",
      "Epoch 3/10\n",
      "1078/1078 [==============================] - 19s 18ms/step - loss: 347233.6236\n",
      "Epoch 4/10\n",
      "1078/1078 [==============================] - 19s 17ms/step - loss: 344815.0914\n",
      "Epoch 5/10\n",
      "1078/1078 [==============================] - 19s 18ms/step - loss: 342511.6110\n",
      "Epoch 6/10\n",
      "1078/1078 [==============================] - 19s 18ms/step - loss: 340256.4919\n",
      "Epoch 7/10\n",
      "1078/1078 [==============================] - 20s 18ms/step - loss: 338051.2010\n",
      "Epoch 8/10\n",
      "1078/1078 [==============================] - 22s 20ms/step - loss: 335879.6311\n",
      "Epoch 9/10\n",
      "1078/1078 [==============================] - 21s 20ms/step - loss: 333683.8477\n",
      "Epoch 10/10\n",
      "1078/1078 [==============================] - 21s 19ms/step - loss: 331414.7432\n",
      "Epoch 1/10\n",
      "1079/1079 [==============================] - 43s 40ms/step - loss: 356236.7472\n",
      "Epoch 2/10\n",
      "1079/1079 [==============================] - 21s 20ms/step - loss: 349512.9141\n",
      "Epoch 3/10\n",
      "1079/1079 [==============================] - 22s 20ms/step - loss: 346694.3254\n",
      "Epoch 4/10\n",
      "1079/1079 [==============================] - 22s 21ms/step - loss: 344218.6815\n",
      "Epoch 5/10\n",
      "1079/1079 [==============================] - 19s 17ms/step - loss: 341862.8085\n",
      "Epoch 6/10\n",
      "1079/1079 [==============================] - 19s 18ms/step - loss: 339549.6964\n",
      "Epoch 7/10\n",
      "1079/1079 [==============================] - 19s 18ms/step - loss: 337283.3242\n",
      "Epoch 8/10\n",
      "1079/1079 [==============================] - 19s 17ms/step - loss: 335052.6135\n",
      "Epoch 9/10\n",
      "1079/1079 [==============================] - 19s 17ms/step - loss: 332840.9242\n",
      "Epoch 10/10\n",
      "1079/1079 [==============================] - 18s 17ms/step - loss: 330676.3126\n",
      "Epoch 1/10\n",
      "1079/1079 [==============================] - 35s 33ms/step - loss: 356607.8960\n",
      "Epoch 2/10\n",
      "1079/1079 [==============================] - 19s 17ms/step - loss: 349829.1005\n",
      "Epoch 3/10\n",
      "1079/1079 [==============================] - 18s 17ms/step - loss: 346930.9302\n",
      "Epoch 4/10\n",
      "1079/1079 [==============================] - 18s 17ms/step - loss: 344396.9847\n",
      "Epoch 5/10\n",
      "1079/1079 [==============================] - 18s 17ms/step - loss: 341965.6882\n",
      "Epoch 6/10\n",
      "1079/1079 [==============================] - 18s 17ms/step - loss: 339617.5316\n",
      "Epoch 7/10\n",
      "1079/1079 [==============================] - 19s 18ms/step - loss: 337296.4303\n",
      "Epoch 8/10\n",
      "1079/1079 [==============================] - 18s 17ms/step - loss: 335005.4866\n",
      "Epoch 9/10\n",
      "1079/1079 [==============================] - 18s 17ms/step - loss: 332767.1725\n",
      "Epoch 10/10\n",
      "1079/1079 [==============================] - 18s 17ms/step - loss: 330560.7121\n",
      "Epoch 1/10\n",
      "1078/1078 [==============================] - 40s 37ms/step - loss: 354004.2352\n",
      "Epoch 2/10\n",
      "1078/1078 [==============================] - 20s 19ms/step - loss: 349550.5602\n",
      "Epoch 3/10\n",
      "1078/1078 [==============================] - 20s 18ms/step - loss: 347134.4258\n",
      "Epoch 4/10\n",
      "1078/1078 [==============================] - 19s 17ms/step - loss: 344847.3033\n",
      "Epoch 5/10\n",
      "1078/1078 [==============================] - 19s 17ms/step - loss: 342618.3698\n",
      "Epoch 6/10\n",
      "1078/1078 [==============================] - 19s 18ms/step - loss: 340406.2190\n",
      "Epoch 7/10\n",
      "1078/1078 [==============================] - 19s 18ms/step - loss: 338205.0127\n",
      "Epoch 8/10\n",
      "1078/1078 [==============================] - 19s 17ms/step - loss: 335999.6986\n",
      "Epoch 9/10\n",
      "1078/1078 [==============================] - 19s 17ms/step - loss: 333795.4076\n",
      "Epoch 10/10\n",
      "1078/1078 [==============================] - 19s 17ms/step - loss: 331613.5559\n",
      "Epoch 1/10\n",
      "1078/1078 [==============================] - 32s 30ms/step - loss: 357328.2287\n",
      "Epoch 2/10\n",
      "1078/1078 [==============================] - 22s 20ms/step - loss: 353092.9987\n",
      "Epoch 3/10\n",
      "1078/1078 [==============================] - 21s 19ms/step - loss: 350670.2501\n",
      "Epoch 4/10\n",
      "1078/1078 [==============================] - 20s 18ms/step - loss: 348373.0038\n",
      "Epoch 5/10\n",
      "1078/1078 [==============================] - 20s 18ms/step - loss: 346129.1253\n",
      "Epoch 6/10\n",
      "1078/1078 [==============================] - 20s 18ms/step - loss: 343873.1793\n",
      "Epoch 7/10\n",
      "1078/1078 [==============================] - 20s 18ms/step - loss: 341646.3846\n",
      "Epoch 8/10\n",
      "1078/1078 [==============================] - 20s 19ms/step - loss: 339433.4522\n",
      "Epoch 9/10\n",
      "1078/1078 [==============================] - 20s 18ms/step - loss: 337194.9690\n",
      "Epoch 10/10\n",
      "1078/1078 [==============================] - 20s 18ms/step - loss: 335007.9540\n",
      "Epoch 1/10\n",
      "1078/1078 [==============================] - 37s 34ms/step - loss: 354313.3670\n",
      "Epoch 2/10\n",
      "1078/1078 [==============================] - 19s 18ms/step - loss: 350405.2482\n",
      "Epoch 3/10\n",
      "1078/1078 [==============================] - 19s 18ms/step - loss: 348046.7944\n",
      "Epoch 4/10\n",
      "1078/1078 [==============================] - 19s 18ms/step - loss: 345793.3813\n",
      "Epoch 5/10\n",
      "1078/1078 [==============================] - 19s 18ms/step - loss: 343574.3023\n",
      "Epoch 6/10\n",
      "1078/1078 [==============================] - 19s 17ms/step - loss: 341326.0662\n",
      "Epoch 7/10\n",
      "1078/1078 [==============================] - 19s 18ms/step - loss: 339106.9396\n",
      "Epoch 8/10\n",
      "1078/1078 [==============================] - 19s 17ms/step - loss: 336892.9421\n",
      "Epoch 9/10\n",
      "1078/1078 [==============================] - 19s 17ms/step - loss: 334672.5343\n",
      "Epoch 10/10\n",
      "1078/1078 [==============================] - 19s 18ms/step - loss: 332510.5972\n",
      "Epoch 1/10\n",
      "1078/1078 [==============================] - 31s 29ms/step - loss: 352212.5724\n",
      "Epoch 2/10\n",
      "1078/1078 [==============================] - 21s 19ms/step - loss: 347850.9307\n",
      "Epoch 3/10\n",
      "1078/1078 [==============================] - 20s 19ms/step - loss: 345482.5793\n",
      "Epoch 4/10\n",
      "1078/1078 [==============================] - 20s 19ms/step - loss: 343232.0593\n",
      "Epoch 5/10\n",
      "1078/1078 [==============================] - 21s 19ms/step - loss: 340999.7686\n",
      "Epoch 6/10\n",
      "1078/1078 [==============================] - 21s 19ms/step - loss: 338780.5142\n",
      "Epoch 7/10\n",
      "1078/1078 [==============================] - 20s 19ms/step - loss: 336565.9327\n",
      "Epoch 8/10\n",
      "1078/1078 [==============================] - 20s 19ms/step - loss: 334338.6889\n",
      "Epoch 9/10\n",
      "1078/1078 [==============================] - 21s 19ms/step - loss: 332158.3856\n",
      "Epoch 10/10\n",
      "1078/1078 [==============================] - 20s 19ms/step - loss: 329975.8196\n",
      "Epoch 1/10\n",
      "1078/1078 [==============================] - 42s 39ms/step - loss: 358148.6353\n",
      "Epoch 2/10\n",
      "1078/1078 [==============================] - 21s 20ms/step - loss: 354180.1884\n",
      "Epoch 3/10\n",
      "1078/1078 [==============================] - 21s 20ms/step - loss: 351840.2794\n",
      "Epoch 4/10\n",
      "1078/1078 [==============================] - 21s 20ms/step - loss: 349565.5288\n",
      "Epoch 5/10\n",
      "1078/1078 [==============================] - 21s 20ms/step - loss: 347304.6702\n",
      "Epoch 6/10\n",
      "1078/1078 [==============================] - 22s 20ms/step - loss: 345064.8889\n",
      "Epoch 7/10\n",
      "1078/1078 [==============================] - 21s 20ms/step - loss: 342821.8252\n",
      "Epoch 8/10\n",
      "1078/1078 [==============================] - 22s 20ms/step - loss: 340609.4109\n",
      "Epoch 9/10\n",
      "1078/1078 [==============================] - 22s 20ms/step - loss: 338379.4428\n",
      "Epoch 10/10\n",
      "1078/1078 [==============================] - 22s 20ms/step - loss: 336198.9169\n",
      "Epoch 1/10\n",
      "1078/1078 [==============================] - 50s 46ms/step - loss: 360950.4307\n",
      "Epoch 2/10\n",
      "1078/1078 [==============================] - 22s 21ms/step - loss: 356635.6687\n",
      "Epoch 3/10\n",
      "1078/1078 [==============================] - 22s 21ms/step - loss: 354281.4808\n",
      "Epoch 4/10\n",
      "1078/1078 [==============================] - 24s 22ms/step - loss: 352017.0070\n",
      "Epoch 5/10\n",
      "1078/1078 [==============================] - 23s 21ms/step - loss: 349732.9417\n",
      "Epoch 6/10\n",
      "1078/1078 [==============================] - 22s 21ms/step - loss: 347483.3262\n",
      "Epoch 7/10\n",
      "1078/1078 [==============================] - 23s 22ms/step - loss: 345271.2476\n",
      "Epoch 8/10\n",
      "1078/1078 [==============================] - 22s 21ms/step - loss: 343023.8357\n",
      "Epoch 9/10\n",
      "1078/1078 [==============================] - 22s 21ms/step - loss: 340814.9303\n",
      "Epoch 10/10\n",
      "1078/1078 [==============================] - 22s 20ms/step - loss: 338588.1361\n"
     ]
    }
   ],
   "source": [
    "grid_search = grid_search.fit(X_train, y_train)"
   ]
  },
  {
   "cell_type": "code",
   "execution_count": null,
   "metadata": {},
   "outputs": [],
   "source": [
    "# Grid Search for RNN took long time to show results in my laptop, that's why you can run it on your computer if you want to the results"
   ]
  }
 ],
 "metadata": {
  "kernelspec": {
   "display_name": "Python 3",
   "language": "python",
   "name": "python3"
  },
  "language_info": {
   "codemirror_mode": {
    "name": "ipython",
    "version": 3
   },
   "file_extension": ".py",
   "mimetype": "text/x-python",
   "name": "python",
   "nbconvert_exporter": "python",
   "pygments_lexer": "ipython3",
   "version": "3.7.6"
  }
 },
 "nbformat": 4,
 "nbformat_minor": 4
}
